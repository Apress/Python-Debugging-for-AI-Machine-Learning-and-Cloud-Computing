{
 "cells": [
  {
   "cell_type": "code",
   "execution_count": null,
   "id": "f95326f3-34af-40bf-83b8-c2e86d7e5201",
   "metadata": {},
   "outputs": [],
   "source": [
    "class Processes:\n",
    "    _singleton = None\n",
    "\n",
    "    @staticmethod\n",
    "    def __new__(cls):\n",
    "        self = Processes._singleton\n",
    "        if not self:\n",
    "            Processes._singleton = self = super().__new__(cls)\n",
    "        return self\n",
    "    \n",
    "    def __init__(self):\n",
    "        pass\n",
    "\n",
    "    _procinfo = {}\n",
    "\n",
    "    def add_process(self, pid, info):\n",
    "        Processes._procinfo[pid] = info\n",
    "\n",
    "    def remove_process(self, pid):\n",
    "        del Processes._procinfo[pid]\n",
    "\n",
    "class Files:\n",
    "    def __init__(self):\n",
    "        self._processes = Processes()\n",
    "        self._count = 0\n",
    "\n",
    "    def process_files(self):\n",
    "        self._count += 1\n",
    "        if self._count > 25:\n",
    "            self._processes.add_process(self._count, \"\")\n",
    "\n",
    "import time\n",
    "\n",
    "procs = Processes()\n",
    "files = Files()\n",
    "for pid in range (1, 10): \n",
    "    procs.add_process(pid, \"info\")\n",
    "while True:\n",
    "    pid += 1\n",
    "    procs.add_process(pid, \"info\")\n",
    "    time.sleep(1)\n",
    "    procs.remove_process(pid)\n",
    "    time.sleep(1)\n",
    "    files.process_files()"
   ]
  }
 ],
 "metadata": {
  "kernelspec": {
   "display_name": "Python 3 (ipykernel)",
   "language": "python",
   "name": "python3"
  },
  "language_info": {
   "codemirror_mode": {
    "name": "ipython",
    "version": 3
   },
   "file_extension": ".py",
   "mimetype": "text/x-python",
   "name": "python",
   "nbconvert_exporter": "python",
   "pygments_lexer": "ipython3",
   "version": "3.11.4"
  }
 },
 "nbformat": 4,
 "nbformat_minor": 5
}
